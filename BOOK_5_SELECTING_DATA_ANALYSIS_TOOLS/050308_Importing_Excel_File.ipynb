{
 "cells": [
  {
   "cell_type": "code",
   "execution_count": 1,
   "id": "ddf0b346",
   "metadata": {},
   "outputs": [
    {
     "name": "stdout",
     "output_type": "stream",
     "text": [
      "    Angle (Degrees)      Sine    Cosine    Tangent\n",
      "0        138.550574  0.661959 -0.749540  -0.883153\n",
      "1        305.535745 -0.813753  0.581211  -1.400100\n",
      "2        280.518695 -0.983195  0.182556  -5.385709\n",
      "3        216.363795 -0.592910 -0.805269   0.736289\n",
      "4         36.389247  0.593268  0.805005   0.736974\n",
      "..              ...       ...       ...        ...\n",
      "67       324.199562 -0.584964  0.811059  -0.721234\n",
      "68       187.948172 -0.138277 -0.990394   0.139619\n",
      "69       270.678249 -0.999930  0.011837 -84.472139\n",
      "70       270.779159 -0.999908  0.013598 -73.530885\n",
      "71       200.213513 -0.345520 -0.938412   0.368196\n",
      "\n",
      "[72 rows x 4 columns]\n"
     ]
    }
   ],
   "source": [
    "import pandas as pd\n",
    "xls = pd.ExcelFile(\"Values.xls\")\n",
    "trig_values = xls.parse('Sheet1', index_col=None, na_values=['NA'])\n",
    "print(trig_values)"
   ]
  },
  {
   "cell_type": "code",
   "execution_count": null,
   "id": "9a16f57c",
   "metadata": {},
   "outputs": [],
   "source": []
  }
 ],
 "metadata": {
  "kernelspec": {
   "display_name": "Python 3 (ipykernel)",
   "language": "python",
   "name": "python3"
  },
  "language_info": {
   "codemirror_mode": {
    "name": "ipython",
    "version": 3
   },
   "file_extension": ".py",
   "mimetype": "text/x-python",
   "name": "python",
   "nbconvert_exporter": "python",
   "pygments_lexer": "ipython3",
   "version": "3.8.3"
  }
 },
 "nbformat": 4,
 "nbformat_minor": 5
}
