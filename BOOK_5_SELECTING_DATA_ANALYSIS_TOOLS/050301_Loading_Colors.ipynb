{
 "cells": [
  {
   "cell_type": "code",
   "execution_count": 1,
   "id": "96217614",
   "metadata": {},
   "outputs": [
    {
     "name": "stdout",
     "output_type": "stream",
     "text": [
      "Colors.txt content:\n",
      "Color\tValue\n",
      "Red\t1\n",
      "Orange\t2\n",
      "Yellow\t3\n",
      "Green\t4\n",
      "Blue\t5\n",
      "Purple\t6\n",
      "Black\t7\n",
      "White\t8\n"
     ]
    }
   ],
   "source": [
    "with open(\"Colors.txt\", 'r') as open_file:\n",
    "    print('Colors.txt content:\\n' + open_file.read())\n"
   ]
  },
  {
   "cell_type": "code",
   "execution_count": null,
   "id": "60578110",
   "metadata": {},
   "outputs": [],
   "source": []
  }
 ],
 "metadata": {
  "kernelspec": {
   "display_name": "Python 3 (ipykernel)",
   "language": "python",
   "name": "python3"
  },
  "language_info": {
   "codemirror_mode": {
    "name": "ipython",
    "version": 3
   },
   "file_extension": ".py",
   "mimetype": "text/x-python",
   "name": "python",
   "nbconvert_exporter": "python",
   "pygments_lexer": "ipython3",
   "version": "3.8.3"
  }
 },
 "nbformat": 4,
 "nbformat_minor": 5
}
