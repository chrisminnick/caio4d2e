{
 "cells": [
  {
   "cell_type": "markdown",
   "id": "1496c958",
   "metadata": {},
   "source": [
    "# Using read_xml"
   ]
  },
  {
   "cell_type": "code",
   "execution_count": 1,
   "id": "d1d10412",
   "metadata": {},
   "outputs": [
    {
     "name": "stdout",
     "output_type": "stream",
     "text": [
      "   Number  String  Boolean\n",
      "0       1   First     True\n",
      "1       2  Second    False\n",
      "2       3   Third     True\n",
      "3       4  Fourth    False\n"
     ]
    }
   ],
   "source": [
    "import pandas as pd\n",
    "df = pd.read_xml('XMLData.xml')\n",
    "\n",
    "print(df)"
   ]
  },
  {
   "cell_type": "code",
   "execution_count": null,
   "id": "53dab068",
   "metadata": {},
   "outputs": [],
   "source": []
  }
 ],
 "metadata": {
  "kernelspec": {
   "display_name": "Python 3 (ipykernel)",
   "language": "python",
   "name": "python3"
  },
  "language_info": {
   "codemirror_mode": {
    "name": "ipython",
    "version": 3
   },
   "file_extension": ".py",
   "mimetype": "text/x-python",
   "name": "python",
   "nbconvert_exporter": "python",
   "pygments_lexer": "ipython3",
   "version": "3.8.3"
  }
 },
 "nbformat": 4,
 "nbformat_minor": 5
}
