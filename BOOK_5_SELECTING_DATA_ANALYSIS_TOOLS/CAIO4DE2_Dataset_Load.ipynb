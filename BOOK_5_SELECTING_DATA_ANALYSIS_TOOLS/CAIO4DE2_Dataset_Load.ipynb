{
 "cells": [
  {
   "cell_type": "markdown",
   "metadata": {},
   "source": [
    "# Installing a Python Distribution"
   ]
  },
  {
   "cell_type": "code",
   "execution_count": 3,
   "metadata": {},
   "outputs": [
    {
     "name": "stdout",
     "output_type": "stream",
     "text": [
      "       Month  Passengers\n",
      "0    1949-01         112\n",
      "1    1949-02         118\n",
      "2    1949-03         132\n",
      "3    1949-04         129\n",
      "4    1949-05         121\n",
      "..       ...         ...\n",
      "139  1960-08         606\n",
      "140  1960-09         508\n",
      "141  1960-10         461\n",
      "142  1960-11         390\n",
      "143  1960-12         432\n",
      "\n",
      "[144 rows x 2 columns]\n"
     ]
    }
   ],
   "source": [
    "import pyarrow.feather as feather\n",
    "read_df = feather.read_feather('air_passengers.feather')\n",
    "print(read_df)"
   ]
  },
  {
   "cell_type": "code",
   "execution_count": null,
   "metadata": {},
   "outputs": [],
   "source": []
  }
 ],
 "metadata": {
  "kernelspec": {
   "display_name": "Python 3 (ipykernel)",
   "language": "python",
   "name": "python3"
  },
  "language_info": {
   "codemirror_mode": {
    "name": "ipython",
    "version": 3
   },
   "file_extension": ".py",
   "mimetype": "text/x-python",
   "name": "python",
   "nbconvert_exporter": "python",
   "pygments_lexer": "ipython3",
   "version": "3.8.3"
  }
 },
 "nbformat": 4,
 "nbformat_minor": 1
}
