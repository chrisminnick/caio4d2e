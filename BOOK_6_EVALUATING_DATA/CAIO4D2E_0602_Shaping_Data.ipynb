{
 "cells": [
  {
   "cell_type": "markdown",
   "id": "87a06a8a",
   "metadata": {},
   "source": [
    "# Working with HTML Pages"
   ]
  },
  {
   "cell_type": "markdown",
   "id": "96b71a33",
   "metadata": {},
   "source": [
    "## Parsing XML and HTML"
   ]
  },
  {
   "cell_type": "code",
   "execution_count": 2,
   "id": "2d356a9e",
   "metadata": {},
   "outputs": [
    {
     "name": "stdout",
     "output_type": "stream",
     "text": [
      "<class 'int'>\n",
      "<class 'bool'>\n"
     ]
    },
    {
     "name": "stderr",
     "output_type": "stream",
     "text": [
      "/var/folders/cf/tfv1tkwj5mq_nvkcxn0fdjzr0000gn/T/ipykernel_78253/554969568.py:14: FutureWarning: The frame.append method is deprecated and will be removed from pandas in a future version. Use pandas.concat instead.\n",
      "  df = df.append(row_s)\n",
      "/var/folders/cf/tfv1tkwj5mq_nvkcxn0fdjzr0000gn/T/ipykernel_78253/554969568.py:14: FutureWarning: The frame.append method is deprecated and will be removed from pandas in a future version. Use pandas.concat instead.\n",
      "  df = df.append(row_s)\n",
      "/var/folders/cf/tfv1tkwj5mq_nvkcxn0fdjzr0000gn/T/ipykernel_78253/554969568.py:14: FutureWarning: The frame.append method is deprecated and will be removed from pandas in a future version. Use pandas.concat instead.\n",
      "  df = df.append(row_s)\n",
      "/var/folders/cf/tfv1tkwj5mq_nvkcxn0fdjzr0000gn/T/ipykernel_78253/554969568.py:14: FutureWarning: The frame.append method is deprecated and will be removed from pandas in a future version. Use pandas.concat instead.\n",
      "  df = df.append(row_s)\n"
     ]
    }
   ],
   "source": [
    "from lxml import objectify\n",
    "import pandas as pd\n",
    "from distutils import util\n",
    "xml = objectify.parse(open('XMLData.xml'))\n",
    "root = xml.getroot()\n",
    "df = pd.DataFrame(columns=('Number', 'Boolean'))\n",
    "for i in range(0, 4):\n",
    "    obj = root.getchildren()[i].getchildren()\n",
    "    row = dict(zip(['Number', 'Boolean'],\n",
    "                   [obj[0].pyval,\n",
    "                   bool(util.strtobool(obj[2].text))]))\n",
    "    row_s = pd.Series(row)\n",
    "    row_s.name = obj[1].text\n",
    "    df = df.append(row_s)\n",
    "    \n",
    "print(type(df.loc['First']['Number']))\n",
    "print(type(df.loc['First']['Boolean']))"
   ]
  },
  {
   "cell_type": "markdown",
   "id": "b6b58981",
   "metadata": {},
   "source": [
    "## Using XPath for data extraction"
   ]
  },
  {
   "cell_type": "code",
   "execution_count": 4,
   "id": "8a32f4f7",
   "metadata": {},
   "outputs": [
    {
     "name": "stdout",
     "output_type": "stream",
     "text": [
      "        Number  Boolean\n",
      "First        1     True\n",
      "Second       2    False\n",
      "Third        3     True\n",
      "Fourth       4    False\n",
      "<class 'numpy.int64'>\n",
      "<class 'numpy.bool_'>\n"
     ]
    }
   ],
   "source": [
    "from lxml import objectify\n",
    "import pandas as pd\n",
    "from distutils import util\n",
    "\n",
    "xml = objectify.parse(open('XMLData.xml'))\n",
    "root = xml.getroot()\n",
    "map_number = map(int, root.xpath('Record/Number'))\n",
    "map_bool = map(str, root.xpath('Record/Boolean'))\n",
    "map_bool = map(util.strtobool, map_bool)\n",
    "map_bool = map(bool, map_bool)\n",
    "map_string = map(str, root.xpath('Record/String'))\n",
    "\n",
    "data = list(zip(map_number, map_bool))\n",
    "df = pd.DataFrame(data, \n",
    "                  columns=('Number', 'Boolean'), \n",
    "                  index = list(map_string))\n",
    "\n",
    "print(df)\n",
    "print(type(df.loc['First']['Number']))\n",
    "print(type(df.loc['First']['Boolean']))"
   ]
  },
  {
   "cell_type": "markdown",
   "id": "921a2106",
   "metadata": {},
   "source": [
    "# Working with Raw Text"
   ]
  },
  {
   "cell_type": "markdown",
   "id": "d8abbd31",
   "metadata": {},
   "source": [
    "## Stemming and removing stop words"
   ]
  },
  {
   "cell_type": "code",
   "execution_count": 8,
   "id": "c1682bb3",
   "metadata": {},
   "outputs": [
    {
     "name": "stdout",
     "output_type": "stream",
     "text": [
      "['love', 'sam', 'swim', 'time']\n",
      "[[1 0 1 0]]\n"
     ]
    },
    {
     "name": "stderr",
     "output_type": "stream",
     "text": [
      "/Users/chrisminnick/opt/anaconda3/lib/python3.8/site-packages/sklearn/feature_extraction/text.py:396: UserWarning: Your stop_words may be inconsistent with your preprocessing. Tokenizing the stop words generated tokens ['abov', 'afterward', 'alon', 'alreadi', 'alway', 'ani', 'anoth', 'anyon', 'anyth', 'anywher', 'becam', 'becaus', 'becom', 'befor', 'besid', 'cri', 'describ', 'dure', 'els', 'elsewher', 'empti', 'everi', 'everyon', 'everyth', 'everywher', 'fifti', 'formerli', 'forti', 'ha', 'henc', 'hereaft', 'herebi', 'hi', 'howev', 'hundr', 'inde', 'latterli', 'mani', 'meanwhil', 'moreov', 'mostli', 'nobodi', 'noon', 'noth', 'nowher', 'onc', 'onli', 'otherwis', 'ourselv', 'perhap', 'pleas', 'seriou', 'sever', 'sinc', 'sincer', 'sixti', 'someon', 'someth', 'sometim', 'somewher', 'themselv', 'thenc', 'thereaft', 'therebi', 'therefor', 'thi', 'thu', 'togeth', 'twelv', 'twenti', 'veri', 'wa', 'whatev', 'whenc', 'whenev', 'wherea', 'whereaft', 'wherebi', 'wherev', 'whi', 'yourselv'] not in stop_words.\n",
      "  warnings.warn(\n",
      "/Users/chrisminnick/opt/anaconda3/lib/python3.8/site-packages/sklearn/utils/deprecation.py:87: FutureWarning: Function get_feature_names is deprecated; get_feature_names is deprecated in 1.0 and will be removed in 1.2. Please use get_feature_names_out instead.\n",
      "  warnings.warn(msg, category=FutureWarning)\n"
     ]
    }
   ],
   "source": [
    "from sklearn.feature_extraction.text import *\n",
    "from nltk import word_tokenize\n",
    "from nltk.stem.porter import PorterStemmer\n",
    "stemmer = PorterStemmer()\n",
    "\n",
    "def stem_tokens(tokens, stemmer):\n",
    "    stemmed = []\n",
    "    for item in tokens:\n",
    "        stemmed.append(stemmer.stem(item))\n",
    "    return stemmed\n",
    "\n",
    "def tokenize(text):\n",
    "    tokens = word_tokenize(text)\n",
    "    stems = stem_tokens(tokens, stemmer)\n",
    "    return stems\n",
    "\n",
    "vocab = ['Sam loves swimming so he swims all the time']\n",
    "vect = CountVectorizer(tokenizer=tokenize,\n",
    "                       stop_words='english')\n",
    "vec = vect.fit(vocab)\n",
    "\n",
    "sentence1 = vec.transform(['George loves swimming too!'])\n",
    "\n",
    "print(vec.get_feature_names())\n",
    "print(sentence1.toarray())"
   ]
  },
  {
   "cell_type": "markdown",
   "id": "311fa076",
   "metadata": {},
   "source": [
    "## Introducing regular expressions"
   ]
  },
  {
   "cell_type": "code",
   "execution_count": 9,
   "id": "4a5f832d",
   "metadata": {},
   "outputs": [
    {
     "name": "stdout",
     "output_type": "stream",
     "text": [
      "('800', '555', '1212')\n",
      "('800', '555', '1234')\n"
     ]
    }
   ],
   "source": [
    "import re\n",
    "\n",
    "data1 = 'My phone number is: 800-555-1212.'\n",
    "data2 = '800-555-1234 is my phone number.'\n",
    "\n",
    "pattern = re.compile(r'(\\d{3})-(\\d{3})-(\\d{4})')\n",
    "\n",
    "dmatch1 = pattern.search(data1).groups()\n",
    "dmatch2 = pattern.search(data2).groups()\n",
    "\n",
    "print(dmatch1)\n",
    "print(dmatch2)"
   ]
  },
  {
   "cell_type": "markdown",
   "id": "ff8fe58b",
   "metadata": {},
   "source": [
    "# Using the Bag of Words Model and Beyond"
   ]
  },
  {
   "cell_type": "markdown",
   "id": "46ae863e",
   "metadata": {},
   "source": [
    "## Understanding the bag of words model"
   ]
  },
  {
   "cell_type": "code",
   "execution_count": 10,
   "id": "2490b623",
   "metadata": {},
   "outputs": [
    {
     "name": "stdout",
     "output_type": "stream",
     "text": [
      "BOW shape: (2356, 34750)\n",
      "\"Caltech\": 3\n"
     ]
    }
   ],
   "source": [
    "from sklearn.datasets import fetch_20newsgroups\n",
    "from sklearn.feature_extraction.text import *\n",
    "\n",
    "categories = ['comp.graphics', 'misc.forsale',\n",
    "              'rec.autos', 'sci.space']\n",
    "twenty_train = fetch_20newsgroups(subset='train',\n",
    "    categories=categories,\n",
    "    shuffle=True,\n",
    "    random_state=42)\n",
    "count_vect = CountVectorizer()\n",
    "X_train_counts = count_vect.fit_transform(\n",
    "    twenty_train.data)\n",
    "\n",
    "print(\"BOW shape:\", X_train_counts.shape)\n",
    "caltech_idx = count_vect.vocabulary_['caltech']\n",
    "print('\"Caltech\": %i' % X_train_counts[0, caltech_idx])"
   ]
  },
  {
   "cell_type": "markdown",
   "id": "61beb9a5",
   "metadata": {},
   "source": [
    "## Working with n-grams"
   ]
  },
  {
   "cell_type": "code",
   "execution_count": 11,
   "id": "f41b9fbf",
   "metadata": {},
   "outputs": [
    {
     "name": "stdout",
     "output_type": "stream",
     "text": [
      "[' an', ' in', ' of', ' th', ' to', 'he ', 'ing', 'ion', 'nd ', 'the']\n",
      "[[0 0 2 5 1 4 2 2 0 5]]\n",
      "['anonymous ftp', 'commercial space', 'gamma ray', 'nasa gov', 'national space', 'remote sensing', 'sci space', 'space shuttle', 'space station', 'washington dc']\n"
     ]
    }
   ],
   "source": [
    "from sklearn.datasets import fetch_20newsgroups\n",
    "from sklearn.feature_extraction.text import *\n",
    "\n",
    "categories = ['sci.space']\n",
    "\n",
    "twenty_train = fetch_20newsgroups(subset='train',\n",
    "    categories=categories,\n",
    "    remove=('headers','footers','quotes'),\n",
    "    shuffle=True,\n",
    "    random_state=42)\n",
    "\n",
    "count_chars = CountVectorizer(analyzer='char_wb',\n",
    "    ngram_range=(3,3),\n",
    "    max_features=10)\n",
    "count_chars.fit(twenty_train['data'])\n",
    "\n",
    "count_words = CountVectorizer(analyzer='word',\n",
    "    ngram_range=(2,2),\n",
    "    max_features=10,\n",
    "    stop_words='english')\n",
    "count_words.fit(twenty_train['data'])\n",
    "\n",
    "X = count_chars.transform(twenty_train.data)\n",
    "\n",
    "print(count_chars.get_feature_names())\n",
    "print(X[1].todense())\n",
    "print(count_words.get_feature_names())"
   ]
  },
  {
   "cell_type": "markdown",
   "id": "ac2df3a3",
   "metadata": {},
   "source": [
    "## Implementing TF-IDF transformations"
   ]
  },
  {
   "cell_type": "code",
   "execution_count": 12,
   "id": "4b657862",
   "metadata": {},
   "outputs": [
    {
     "name": "stdout",
     "output_type": "stream",
     "text": [
      "\"Caltech\" scored in a BOW:\n",
      "count: 3.000\n",
      "TF-IDF: 0.123\n"
     ]
    }
   ],
   "source": [
    "from sklearn.datasets import fetch_20newsgroups\n",
    "from sklearn.feature_extraction.text import *\n",
    "categories = ['comp.graphics', 'misc.forsale',\n",
    "              'rec.autos', 'sci.space']\n",
    "twenty_train = fetch_20newsgroups(subset='train', \n",
    "                                  categories=categories,\n",
    "                                  shuffle=True,\n",
    "                                  random_state=42)\n",
    "count_vect = CountVectorizer()\n",
    "X_train_counts = count_vect.fit_transform(twenty_train.data)\n",
    "tfidf = TfidfTransformer().fit(X_train_counts)\n",
    "X_train_tfidf = tfidf.transform(X_train_counts)\n",
    "caltech_idx = count_vect.vocabulary_['caltech']\n",
    "\n",
    "print('\"Caltech\" scored in a BOW:')\n",
    "print('count: %0.3f' % X_train_counts[0, caltech_idx])\n",
    "print('TF-IDF: %0.3f' % X_train_tfidf[0, caltech_idx])"
   ]
  },
  {
   "cell_type": "markdown",
   "id": "4dd8ba55",
   "metadata": {},
   "source": [
    "## Computing the mean word count and TF-IDF"
   ]
  },
  {
   "cell_type": "code",
   "execution_count": 13,
   "id": "c9ed1e98",
   "metadata": {},
   "outputs": [
    {
     "name": "stdout",
     "output_type": "stream",
     "text": [
      "mean count: 1.698\n",
      "mean TF-IDF: 0.064\n"
     ]
    }
   ],
   "source": [
    "import numpy as np\n",
    "count = np.mean(X_train_counts[X_train_counts>0])\n",
    "tfif = np.mean(X_train_tfidf[X_train_tfidf>0])\n",
    "print('mean count: %0.3f' % np.mean(count))\n",
    "print('mean TF-IDF: %0.3f' % np.mean(tfif))\n"
   ]
  },
  {
   "cell_type": "markdown",
   "id": "cf59ca92",
   "metadata": {},
   "source": [
    "# Working with Graph Data"
   ]
  },
  {
   "cell_type": "markdown",
   "id": "da8ee1c1",
   "metadata": {},
   "source": [
    "## Using NetworkX basics"
   ]
  },
  {
   "cell_type": "markdown",
   "id": "3c690f77",
   "metadata": {},
   "source": [
    "### Creating the initial graph"
   ]
  },
  {
   "cell_type": "code",
   "execution_count": 14,
   "id": "2dc24150",
   "metadata": {},
   "outputs": [
    {
     "name": "stdout",
     "output_type": "stream",
     "text": [
      "[[0 1 0 0 0 0 0 0 0 1]\n",
      " [1 0 1 0 0 0 0 0 0 0]\n",
      " [0 1 0 1 0 0 0 0 0 0]\n",
      " [0 0 1 0 1 0 0 0 0 0]\n",
      " [0 0 0 1 0 1 0 0 0 0]\n",
      " [0 0 0 0 1 0 1 0 0 0]\n",
      " [0 0 0 0 0 1 0 1 0 0]\n",
      " [0 0 0 0 0 0 1 0 1 0]\n",
      " [0 0 0 0 0 0 0 1 0 1]\n",
      " [1 0 0 0 0 0 0 0 1 0]]\n"
     ]
    }
   ],
   "source": [
    "import networkx as nx\n",
    "G = nx.cycle_graph(10)\n",
    "A = nx.adjacency_matrix(G)\n",
    "\n",
    "print(A.todense())"
   ]
  },
  {
   "cell_type": "markdown",
   "id": "a1419511",
   "metadata": {},
   "source": [
    "### Visualizing the graph"
   ]
  },
  {
   "cell_type": "code",
   "execution_count": 15,
   "id": "cb04bfb6",
   "metadata": {},
   "outputs": [
    {
     "data": {
      "image/png": "[encoded data removed]",
      "text/plain": [
       "<Figure size 432x288 with 1 Axes>"
      ]
     },
     "metadata": {},
     "output_type": "display_data"
    }
   ],
   "source": [
    "import matplotlib.pyplot as plt\n",
    "%matplotlib inline\n",
    "nx.draw_networkx(G)\n",
    "plt.show()"
   ]
  },
  {
   "cell_type": "markdown",
   "id": "9edbabda",
   "metadata": {},
   "source": [
    "### Adding to the Graph"
   ]
  },
  {
   "cell_type": "code",
   "execution_count": 16,
   "id": "9d89cc46",
   "metadata": {},
   "outputs": [
    {
     "data": {
      "image/png": "[encoded data removed]",
      "text/plain": [
       "<Figure size 432x288 with 1 Axes>"
      ]
     },
     "metadata": {},
     "output_type": "display_data"
    }
   ],
   "source": [
    "G.add_edge(1,5)\n",
    "nx.draw_networkx(G)\n",
    "plt.show()"
   ]
  },
  {
   "cell_type": "code",
   "execution_count": null,
   "id": "404687f4",
   "metadata": {},
   "outputs": [],
   "source": []
  }
 ],
 "metadata": {
  "kernelspec": {
   "display_name": "Python 3 (ipykernel)",
   "language": "python",
   "name": "python3"
  },
  "language_info": {
   "codemirror_mode": {
    "name": "ipython",
    "version": 3
   },
   "file_extension": ".py",
   "mimetype": "text/x-python",
   "name": "python",
   "nbconvert_exporter": "python",
   "pygments_lexer": "ipython3",
   "version": "3.8.3"
  }
 },
 "nbformat": 4,
 "nbformat_minor": 5
}
