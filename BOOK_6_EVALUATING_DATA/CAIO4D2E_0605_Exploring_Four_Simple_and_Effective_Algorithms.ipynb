{
 "cells": [
  {
   "cell_type": "markdown",
   "id": "fbd7ac12",
   "metadata": {},
   "source": [
    "# Guessing the number: linear regression"
   ]
  },
  {
   "cell_type": "markdown",
   "id": "8703d279",
   "metadata": {},
   "source": [
    "## Using more variables"
   ]
  },
  {
   "cell_type": "code",
   "execution_count": 2,
   "id": "e1b395d0",
   "metadata": {},
   "outputs": [],
   "source": [
    "from sklearn.datasets import fetch_california_housing\n",
    "from sklearn.preprocessing import scale\n",
    "housing = fetch_california_housing()\n",
    "X = scale(housing.data)\n",
    "y = housing.target"
   ]
  },
  {
   "cell_type": "code",
   "execution_count": 3,
   "id": "5a765320",
   "metadata": {},
   "outputs": [
    {
     "data": {
      "text/plain": [
       "LinearRegression()"
      ]
     },
     "execution_count": 3,
     "metadata": {},
     "output_type": "execute_result"
    }
   ],
   "source": [
    "from sklearn.linear_model import LinearRegression\n",
    "regression = LinearRegression(normalize=True)\n",
    "regression.fit(X, y)"
   ]
  },
  {
   "cell_type": "code",
   "execution_count": 5,
   "id": "91f13fa6",
   "metadata": {},
   "outputs": [
    {
     "name": "stdout",
     "output_type": "stream",
     "text": [
      "0.606232685199805\n"
     ]
    }
   ],
   "source": [
    "print(regression.score(X, y))"
   ]
  },
  {
   "cell_type": "code",
   "execution_count": 6,
   "id": "c34ab869",
   "metadata": {},
   "outputs": [
    {
     "name": "stdout",
     "output_type": "stream",
     "text": [
      "['MedInc:0.83', 'HouseAge:0.12', 'AveRooms:-0.27', 'AveBedrms:0.31', 'Population:-0.0', 'AveOccup:-0.04', 'Latitude:-0.9', 'Longitude:-0.87']\n"
     ]
    }
   ],
   "source": [
    "print([a + ':' + str(round(b, 2)) for a, b in zip(\n",
    "    housing.feature_names, regression.coef_,)])"
   ]
  },
  {
   "cell_type": "code",
   "execution_count": 8,
   "id": "4356fb41",
   "metadata": {},
   "outputs": [
    {
     "name": "stdout",
     "output_type": "stream",
     "text": [
      ".. _california_housing_dataset:\n",
      "\n",
      "California Housing dataset\n",
      "--------------------------\n",
      "\n",
      "**Data Set Characteristics:**\n",
      "\n",
      "    :Number of Instances: 20640\n",
      "\n",
      "    :Number of Attributes: 8 numeric, predictive attributes and the target\n",
      "\n",
      "    :Attribute Information:\n",
      "        - MedInc        median income in block group\n",
      "        - HouseAge      median house age in block group\n",
      "        - AveRooms      average number of rooms per household\n",
      "        - AveBedrms     average number of bedrooms per household\n",
      "        - Population    block group population\n",
      "        - AveOccup      average number of household members\n",
      "        - Latitude      block group latitude\n",
      "        - Longitude     block group longitude\n",
      "\n",
      "    :Missing Attribute Values: None\n",
      "\n",
      "This dataset was obtained from the StatLib repository.\n",
      "https://www.dcc.fc.up.pt/~ltorgo/Regression/cal_housing.html\n",
      "\n",
      "The target variable is the median house value for California districts,\n",
      "expressed in hundreds of thousands of dollars ($100,000).\n",
      "\n",
      "This dataset was derived from the 1990 U.S. census, using one row per census\n",
      "block group. A block group is the smallest geographical unit for which the U.S.\n",
      "Census Bureau publishes sample data (a block group typically has a population\n",
      "of 600 to 3,000 people).\n",
      "\n",
      "An household is a group of people residing within a home. Since the average\n",
      "number of rooms and bedrooms in this dataset are provided per household, these\n",
      "columns may take surpinsingly large values for block groups with few households\n",
      "and many empty houses, such as vacation resorts.\n",
      "\n",
      "It can be downloaded/loaded using the\n",
      ":func:`sklearn.datasets.fetch_california_housing` function.\n",
      "\n",
      ".. topic:: References\n",
      "\n",
      "    - Pace, R. Kelley and Ronald Barry, Sparse Spatial Autoregressions,\n",
      "      Statistics and Probability Letters, 33 (1997) 291-297\n",
      "\n"
     ]
    }
   ],
   "source": [
    "print (housing.DESCR)"
   ]
  },
  {
   "cell_type": "markdown",
   "id": "826cc484",
   "metadata": {},
   "source": [
    "## Understanding limitations and potential problems"
   ]
  },
  {
   "cell_type": "markdown",
   "id": "cf7afaff",
   "metadata": {},
   "source": [
    "# Moving to Logistic Regression"
   ]
  },
  {
   "cell_type": "markdown",
   "id": "1661e5ad",
   "metadata": {},
   "source": [
    "## Applying logistic regression"
   ]
  },
  {
   "cell_type": "code",
   "execution_count": 21,
   "id": "6dc4e8af",
   "metadata": {},
   "outputs": [],
   "source": [
    "from sklearn.datasets import load_iris\n",
    "import numpy as np\n",
    "np.set_printoptions(suppress=True)\n",
    "iris = load_iris()\n",
    "X, y = load_iris(return_X_y=True)"
   ]
  },
  {
   "cell_type": "code",
   "execution_count": 22,
   "id": "9a16831c",
   "metadata": {},
   "outputs": [
    {
     "name": "stdout",
     "output_type": "stream",
     "text": [
      "Predicted class [2], real class 2\n",
      "Probabilities for each class from 0 to 2: [[0.0005 0.2348 0.7647]]\n"
     ]
    }
   ],
   "source": [
    "from sklearn.linear_model import LogisticRegression\n",
    "logistic = LogisticRegression(max_iter=200)\n",
    "logistic.fit(X, y)\n",
    "single_row_pred = logistic.predict(\n",
    "iris.data[-1, :].reshape(1, -1))\n",
    "single_row_pred_proba = logistic.predict_proba(\n",
    "iris.data[-1, :].reshape(1, -1))\n",
    "print ('Predicted class %s, real class %s'\n",
    "       % (single_row_pred, iris.target[-1]))\n",
    "rounded_single_row_pred_proba = np.round(single_row_pred_proba, 4)\n",
    "print ('Probabilities for each class from 0 to 2: %s'\n",
    "       % rounded_single_row_pred_proba)\n"
   ]
  },
  {
   "cell_type": "markdown",
   "id": "eb1dd260",
   "metadata": {},
   "source": [
    "## Considering when classes are more than two"
   ]
  },
  {
   "cell_type": "code",
   "execution_count": 23,
   "id": "b0083a2c",
   "metadata": {},
   "outputs": [],
   "source": [
    "from sklearn.datasets import load_digits\n",
    "digits = load_digits()\n",
    "train = range(0, 1700)\n",
    "test = range(1700, len(digits.data))\n",
    "X = digits.data[train]\n",
    "y = digits.target[train]\n",
    "tX = digits.data[test]\n",
    "ty = digits.target[test]"
   ]
  },
  {
   "cell_type": "code",
   "execution_count": 28,
   "id": "bc101482",
   "metadata": {},
   "outputs": [
    {
     "name": "stdout",
     "output_type": "stream",
     "text": [
      "One vs rest accuracy: 0.959\n",
      "One vs one accuracy: 0.979\n"
     ]
    }
   ],
   "source": [
    "from sklearn.multiclass import OneVsRestClassifier\n",
    "from sklearn.multiclass import OneVsOneClassifier\n",
    "OVR = OneVsRestClassifier(LogisticRegression(max_iter=2000)).fit(X, y)\n",
    "OVO = OneVsOneClassifier(LogisticRegression(max_iter=2000)).fit(X, y)\n",
    "print('One vs rest accuracy: %.3f' % OVR.score(tX, ty))\n",
    "print('One vs one accuracy: %.3f' % OVO.score(tX, ty))"
   ]
  },
  {
   "cell_type": "markdown",
   "id": "c020583d",
   "metadata": {},
   "source": [
    "# Making Things as Simple as Naïve Bayes"
   ]
  },
  {
   "cell_type": "markdown",
   "id": "3f1e4c40",
   "metadata": {},
   "source": [
    "## Predicting text classifications"
   ]
  },
  {
   "cell_type": "code",
   "execution_count": 30,
   "id": "cdd2acf8",
   "metadata": {},
   "outputs": [],
   "source": [
    "from sklearn.datasets import fetch_20newsgroups\n",
    "newsgroups_train = fetch_20newsgroups(\n",
    "    subset='train', \n",
    "    remove=('headers', 'footers','quotes'))\n",
    "newsgroups_test = fetch_20newsgroups(\n",
    "    subset='test', \n",
    "    remove=('headers', 'footers','quotes'))"
   ]
  },
  {
   "cell_type": "code",
   "execution_count": 32,
   "id": "57de0859",
   "metadata": {},
   "outputs": [
    {
     "name": "stdout",
     "output_type": "stream",
     "text": [
      "number of posts in training: 11314\n",
      "number of distinct words in training: 300972\n",
      "number of posts in test: 7532\n"
     ]
    }
   ],
   "source": [
    "print('number of posts in training: %i'\n",
    "% len(newsgroups_train.data))\n",
    "D={word:True for post in newsgroups_train.data\n",
    "for word in post.split(' ')}\n",
    "print('number of distinct words in training: %i'\n",
    "% len(D))\n",
    "print('number of posts in test: %i'\n",
    "% len(newsgroups_test.data))"
   ]
  },
  {
   "cell_type": "code",
   "execution_count": 33,
   "id": "97e8032d",
   "metadata": {},
   "outputs": [],
   "source": [
    "from sklearn.naive_bayes import BernoulliNB, MultinomialNB\n",
    "Bernoulli = BernoulliNB(alpha=0.01)\n",
    "Multinomial = MultinomialNB(alpha=0.01)"
   ]
  },
  {
   "cell_type": "code",
   "execution_count": 34,
   "id": "acae2072",
   "metadata": {},
   "outputs": [],
   "source": [
    "import sklearn.feature_extraction.text as txt\n",
    "multinomial = txt.HashingVectorizer(stop_words='english',\n",
    "binary=False, norm=None)\n",
    "binary = txt.HashingVectorizer(stop_words='english',\n",
    "binary=True, norm=None)\n"
   ]
  },
  {
   "cell_type": "code",
   "execution_count": 37,
   "id": "c8571eaa",
   "metadata": {},
   "outputs": [
    {
     "name": "stdout",
     "output_type": "stream",
     "text": [
      "Accuracy for BernoulliNB: 0.570\n",
      "Accuracy for MultinomialNB: 0.651\n"
     ]
    }
   ],
   "source": [
    "import numpy as np\n",
    "target = newsgroups_train.target\n",
    "target_test = newsgroups_test.target\n",
    "multi_X = np.abs(\n",
    "multinomial.transform(newsgroups_train.data))\n",
    "multi_Xt = np.abs(\n",
    "multinomial.transform(newsgroups_test.data))\n",
    "bin_X = binary.transform(newsgroups_train.data)\n",
    "bin_Xt = binary.transform(newsgroups_test.data)\n",
    "Multinomial.fit(multi_X, target)\n",
    "Bernoulli.fit(bin_X, target)\n",
    "from sklearn.metrics import accuracy_score\n",
    "from sklearn.metrics import accuracy_score\n",
    "for name, model, data in [('BernoulliNB', Bernoulli, bin_Xt),\n",
    "    ('MultinomialNB', Multinomial, multi_Xt)]:\n",
    "    accuracy = accuracy_score(y_true=target_test,\n",
    "                              y_pred=model.predict(data))\n",
    "    print ('Accuracy for %s: %.3f' % (name, accuracy))"
   ]
  },
  {
   "cell_type": "markdown",
   "id": "d9b2d1f0",
   "metadata": {},
   "source": [
    "# Exploring Lazy Learning with K-nearest Neighbors"
   ]
  },
  {
   "cell_type": "markdown",
   "id": "7ae16c99",
   "metadata": {},
   "source": [
    "## Predicting after observing neighbors"
   ]
  },
  {
   "cell_type": "code",
   "execution_count": 44,
   "id": "e56aeee1",
   "metadata": {},
   "outputs": [],
   "source": [
    "from sklearn.datasets import load_digits\n",
    "from sklearn.decomposition import PCA\n",
    "digits = load_digits()\n",
    "train = range(0, 1700)\n",
    "test = range(1700, len(digits.data))\n",
    "pca = PCA(n_components = 25)\n",
    "pca.fit(digits.data[train])\n",
    "X = pca.transform(digits.data[train])\n",
    "y = digits.target[train]\n",
    "tX = pca.transform(digits.data[test])\n",
    "ty = digits.target[test]"
   ]
  },
  {
   "cell_type": "code",
   "execution_count": 45,
   "id": "738fb71b",
   "metadata": {},
   "outputs": [
    {
     "name": "stdout",
     "output_type": "stream",
     "text": [
      "Accuracy: 0.907\n",
      "Prediction: [2 2 5 7 9 5 4 8 1 4 9 0 8 9 8] Actual: [2 2 5 7 9 5 4 8 8 4 9 0 8 9 8]\n"
     ]
    }
   ],
   "source": [
    "print('Accuracy: %.3f' % kNN.score(tX,ty) )\n",
    "print('Prediction: %s Actual: %s'\n",
    "% (kNN.predict(tX[-15:,:]),ty[-15:]))\n"
   ]
  },
  {
   "cell_type": "markdown",
   "id": "8b302928",
   "metadata": {},
   "source": [
    "## Choosing wisely your k parameter"
   ]
  },
  {
   "cell_type": "code",
   "execution_count": 43,
   "id": "846297fc",
   "metadata": {},
   "outputs": [
    {
     "name": "stdout",
     "output_type": "stream",
     "text": [
      "for k =   1 accuracy is 0.979\n",
      "for k =   5 accuracy is 0.990\n",
      "for k =  10 accuracy is 0.969\n",
      "for k =  50 accuracy is 0.959\n",
      "for k = 100 accuracy is 0.959\n",
      "for k = 200 accuracy is 0.907\n"
     ]
    }
   ],
   "source": [
    "for k in [1, 5, 10, 50, 100, 200]:\n",
    "    kNN = KNeighborsClassifier(n_neighbors=k).fit(X, y)\n",
    "    print('for k = %3i accuracy is %.3f' \n",
    "          % (k, kNN.score(tX, ty)))"
   ]
  },
  {
   "cell_type": "code",
   "execution_count": null,
   "id": "1f3e6cd1",
   "metadata": {},
   "outputs": [],
   "source": []
  }
 ],
 "metadata": {
  "kernelspec": {
   "display_name": "Python 3 (ipykernel)",
   "language": "python",
   "name": "python3"
  },
  "language_info": {
   "codemirror_mode": {
    "name": "ipython",
    "version": 3
   },
   "file_extension": ".py",
   "mimetype": "text/x-python",
   "name": "python",
   "nbconvert_exporter": "python",
   "pygments_lexer": "ipython3",
   "version": "3.8.3"
  }
 },
 "nbformat": 4,
 "nbformat_minor": 5
}
