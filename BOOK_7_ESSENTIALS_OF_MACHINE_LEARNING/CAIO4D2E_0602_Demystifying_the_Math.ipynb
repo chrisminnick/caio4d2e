{
 "cells": [
  {
   "cell_type": "markdown",
   "id": "87248fb1",
   "metadata": {},
   "source": [
    "## Comparing Arrays"
   ]
  },
  {
   "cell_type": "code",
   "execution_count": 2,
   "id": "888edb1a",
   "metadata": {},
   "outputs": [
    {
     "name": "stdout",
     "output_type": "stream",
     "text": [
      "[False  True False  True]\n",
      "[ True False  True False]\n"
     ]
    }
   ],
   "source": [
    "import numpy as np\n",
    "a = np.array([1, 2, 3, 4])\n",
    "b = np.array([2, 2, 4, 4])\n",
    "\n",
    "print(a == b)\n",
    "print(a < b)"
   ]
  },
  {
   "cell_type": "markdown",
   "id": "5a81907d",
   "metadata": {},
   "source": [
    "## Using Logical Functions"
   ]
  },
  {
   "cell_type": "code",
   "execution_count": 4,
   "id": "539dd636",
   "metadata": {},
   "outputs": [
    {
     "name": "stdout",
     "output_type": "stream",
     "text": [
      "[ True  True  True False]\n",
      "[ True False False False]\n",
      "[False  True False  True]\n",
      "[False  True  True False]\n"
     ]
    }
   ],
   "source": [
    "a = np.array([True, False, True, False])\n",
    "b = np.array([True, True, False, False])\n",
    "\n",
    "print(np.logical_or(a, b))\n",
    "print(np.logical_and(a, b))\n",
    "print(np.logical_not(a))\n",
    "print(np.logical_xor(a, b))"
   ]
  },
  {
   "cell_type": "markdown",
   "id": "6a8551e0",
   "metadata": {},
   "source": [
    "## Subtraction with matrices"
   ]
  },
  {
   "cell_type": "code",
   "execution_count": 6,
   "id": "5664e587",
   "metadata": {},
   "outputs": [
    {
     "name": "stdout",
     "output_type": "stream",
     "text": [
      "[[ 0  1]\n",
      " [ 1 -1]]\n"
     ]
    }
   ],
   "source": [
    "A = np.array([[1, 1], [1, 0]])\n",
    "B = np.array([[1, 0], [0, 1]])\n",
    "C = A - B\n",
    "\n",
    "print(C)"
   ]
  },
  {
   "cell_type": "markdown",
   "id": "a89d8158",
   "metadata": {},
   "source": [
    "## Matrix vector multiplication"
   ]
  },
  {
   "cell_type": "code",
   "execution_count": 11,
   "id": "f16ade1d",
   "metadata": {},
   "outputs": [
    {
     "name": "stdout",
     "output_type": "stream",
     "text": [
      "[2, -2, 3]\n"
     ]
    }
   ],
   "source": [
    "a = [sum([4*3, 5*-2]),\n",
    "sum([2*3, 4*-2]),\n",
    "sum([3*3, 3*-2])]\n",
    "print (a)"
   ]
  },
  {
   "cell_type": "markdown",
   "id": "b3a2f569",
   "metadata": {},
   "source": [
    "## Transposing a matrix"
   ]
  },
  {
   "cell_type": "code",
   "execution_count": 12,
   "id": "0bdae264",
   "metadata": {},
   "outputs": [
    {
     "name": "stdout",
     "output_type": "stream",
     "text": [
      "[[ 1  2  7]\n",
      " [ 2  3 11]\n",
      " [ 3  5 13]]\n"
     ]
    }
   ],
   "source": [
    "A = np.array([[1, 2, 3], [2, 3, 5], [7, 11, 13]])\n",
    "print(A.transpose())"
   ]
  },
  {
   "cell_type": "markdown",
   "id": "39e4f481",
   "metadata": {},
   "source": [
    "## Inverting a matrix"
   ]
  },
  {
   "cell_type": "code",
   "execution_count": 13,
   "id": "0acb7909",
   "metadata": {},
   "outputs": [
    {
     "name": "stdout",
     "output_type": "stream",
     "text": [
      "[[-3.2  1.4  0.2]\n",
      " [ 1.8 -1.6  0.2]\n",
      " [ 0.2  0.6 -0.2]]\n"
     ]
    }
   ],
   "source": [
    "print(np.linalg.inv(A))"
   ]
  },
  {
   "cell_type": "markdown",
   "id": "26c6b37a",
   "metadata": {},
   "source": [
    "## Using ndarray to create a vector"
   ]
  },
  {
   "cell_type": "code",
   "execution_count": 14,
   "id": "3f1ddfca",
   "metadata": {},
   "outputs": [
    {
     "name": "stdout",
     "output_type": "stream",
     "text": [
      "[44 21 37]\n",
      "(3,)\n"
     ]
    }
   ],
   "source": [
    "import numpy as np\n",
    "y = np.array([44,21,37])\n",
    "print (y)\n",
    "print (y.shape)"
   ]
  },
  {
   "cell_type": "markdown",
   "id": "a378b9ee",
   "metadata": {},
   "source": [
    "## Creating a matrix using a single list"
   ]
  },
  {
   "cell_type": "code",
   "execution_count": 15,
   "id": "1c6748c1",
   "metadata": {},
   "outputs": [
    {
     "name": "stdout",
     "output_type": "stream",
     "text": [
      "[[  1.1   1.  545.    1. ]\n",
      " [  4.6   0.  345.    2. ]\n",
      " [  7.2   1.  754.    3. ]]\n"
     ]
    }
   ],
   "source": [
    "X = np.array([1.1, 1, 545, 1, 4.6, 0, 345, 2,\n",
    "              7.2, 1, 754, 3]).reshape(3,4)\n",
    "print (X)"
   ]
  },
  {
   "cell_type": "code",
   "execution_count": null,
   "id": "11414fd1",
   "metadata": {},
   "outputs": [],
   "source": []
  }
 ],
 "metadata": {
  "kernelspec": {
   "display_name": "Python 3 (ipykernel)",
   "language": "python",
   "name": "python3"
  },
  "language_info": {
   "codemirror_mode": {
    "name": "ipython",
    "version": 3
   },
   "file_extension": ".py",
   "mimetype": "text/x-python",
   "name": "python",
   "nbconvert_exporter": "python",
   "pygments_lexer": "ipython3",
   "version": "3.8.3"
  }
 },
 "nbformat": 4,
 "nbformat_minor": 5
}
